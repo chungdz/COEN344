{
 "cells": [
  {
   "cell_type": "code",
   "execution_count": 14,
   "id": "11a6da22",
   "metadata": {},
   "outputs": [],
   "source": [
    "from sklearn.ensemble import RandomForestClassifier\n",
    "from sklearn.datasets import make_classification\n",
    "from sklearn.model_selection import train_test_split\n",
    "import statsmodels.api as sm\n",
    "from sklearn.linear_model import LogisticRegression\n",
    "from sklearn.metrics import roc_auc_score"
   ]
  },
  {
   "cell_type": "code",
   "execution_count": 7,
   "id": "b6ca3de9",
   "metadata": {},
   "outputs": [],
   "source": [
    "x, y = make_classification(n_samples=50000, n_features=10, n_informative=2, n_redundant=0, random_state=0, shuffle=False)"
   ]
  },
  {
   "cell_type": "code",
   "execution_count": 8,
   "id": "56a2bb0d",
   "metadata": {},
   "outputs": [],
   "source": [
    "x_train, x_test, y_train, y_test = train_test_split(x, y, test_size=0.1, random_state=7)"
   ]
  },
  {
   "cell_type": "code",
   "execution_count": 9,
   "id": "eca13e8f",
   "metadata": {},
   "outputs": [],
   "source": [
    "clf = LogisticRegression(random_state=7).fit(x_train, y_train)"
   ]
  },
  {
   "cell_type": "code",
   "execution_count": 16,
   "id": "7c7db0b1",
   "metadata": {},
   "outputs": [
    {
     "data": {
      "text/plain": [
       "(5000, 2)"
      ]
     },
     "execution_count": 16,
     "metadata": {},
     "output_type": "execute_result"
    }
   ],
   "source": [
    "y_pred = clf.predict_proba(x_test)\n",
    "y_pred.shape"
   ]
  },
  {
   "cell_type": "code",
   "execution_count": 17,
   "id": "14395ff9",
   "metadata": {},
   "outputs": [
    {
     "name": "stdout",
     "output_type": "stream",
     "text": [
      "mean_accuracy: 0.881\n",
      "AUC: 0.9421900426869171\n"
     ]
    }
   ],
   "source": [
    "mean_acc = clf.score(x_test, y_test)\n",
    "print(\"mean_accuracy:\", mean_acc)\n",
    "print(\"AUC:\", roc_auc_score(y_test, y_pred[:, 1]))"
   ]
  },
  {
   "cell_type": "code",
   "execution_count": null,
   "id": "f3480b2c",
   "metadata": {},
   "outputs": [],
   "source": []
  },
  {
   "cell_type": "code",
   "execution_count": 18,
   "id": "4622e2f9",
   "metadata": {},
   "outputs": [
    {
     "name": "stdout",
     "output_type": "stream",
     "text": [
      "Optimization terminated successfully.\n",
      "         Current function value: 0.313583\n",
      "         Iterations 7\n",
      "                           Logit Regression Results                           \n",
      "==============================================================================\n",
      "Dep. Variable:                      y   No. Observations:                45000\n",
      "Model:                          Logit   Df Residuals:                    44990\n",
      "Method:                           MLE   Df Model:                            9\n",
      "Date:                Mon, 28 Mar 2022   Pseudo R-squ.:                  0.5476\n",
      "Time:                        11:24:39   Log-Likelihood:                -14111.\n",
      "converged:                       True   LL-Null:                       -31191.\n",
      "Covariance Type:            nonrobust   LLR p-value:                     0.000\n",
      "==============================================================================\n",
      "                 coef    std err          z      P>|z|      [0.025      0.975]\n",
      "------------------------------------------------------------------------------\n",
      "x1            -0.2179      0.010    -21.370      0.000      -0.238      -0.198\n",
      "x2             2.3856      0.022    110.407      0.000       2.343       2.428\n",
      "x3             0.0074      0.015      0.490      0.624      -0.022       0.037\n",
      "x4            -0.0161      0.015     -1.069      0.285      -0.046       0.013\n",
      "x5            -0.0157      0.015     -1.030      0.303      -0.046       0.014\n",
      "x6            -0.0280      0.015     -1.841      0.066      -0.058       0.002\n",
      "x7             0.0119      0.015      0.781      0.435      -0.018       0.042\n",
      "x8            -0.0263      0.015     -1.743      0.081      -0.056       0.003\n",
      "x9             0.0068      0.015      0.447      0.655      -0.023       0.037\n",
      "x10           -0.0011      0.015     -0.070      0.944      -0.031       0.029\n",
      "==============================================================================\n"
     ]
    }
   ],
   "source": [
    "log_reg = sm.Logit(y_train, x_train).fit()\n",
    "print(log_reg.summary())"
   ]
  },
  {
   "cell_type": "code",
   "execution_count": 26,
   "id": "c3ef0c7d",
   "metadata": {},
   "outputs": [],
   "source": [
    "yhat = log_reg.predict(x_test)"
   ]
  },
  {
   "cell_type": "code",
   "execution_count": null,
   "id": "cef31fa2",
   "metadata": {},
   "outputs": [],
   "source": []
  },
  {
   "cell_type": "code",
   "execution_count": 20,
   "id": "6f639506",
   "metadata": {},
   "outputs": [
    {
     "data": {
      "text/plain": [
       "RandomForestClassifier(max_depth=2, random_state=0)"
      ]
     },
     "execution_count": 20,
     "metadata": {},
     "output_type": "execute_result"
    }
   ],
   "source": [
    "clf2 = RandomForestClassifier(max_depth=2, random_state=0)\n",
    "clf2.fit(x_train, y_train)"
   ]
  },
  {
   "cell_type": "code",
   "execution_count": 23,
   "id": "6deadbd7",
   "metadata": {},
   "outputs": [],
   "source": [
    "rf_predict = clf2.predict_proba(x_test)"
   ]
  },
  {
   "cell_type": "code",
   "execution_count": 25,
   "id": "a84dd047",
   "metadata": {},
   "outputs": [
    {
     "name": "stdout",
     "output_type": "stream",
     "text": [
      "mean_accuracy: 0.8688\n",
      "AUC: 0.9465856310703242\n"
     ]
    }
   ],
   "source": [
    "mean_acc2 = clf2.score(x_test, y_test)\n",
    "print(\"mean_accuracy:\", mean_acc2)\n",
    "print(\"AUC:\", roc_auc_score(y_test, rf_predict[:, 1]))"
   ]
  },
  {
   "cell_type": "code",
   "execution_count": null,
   "id": "a59e86d6",
   "metadata": {},
   "outputs": [],
   "source": []
  }
 ],
 "metadata": {
  "kernelspec": {
   "display_name": "Python 3 (ipykernel)",
   "language": "python",
   "name": "python3"
  },
  "language_info": {
   "codemirror_mode": {
    "name": "ipython",
    "version": 3
   },
   "file_extension": ".py",
   "mimetype": "text/x-python",
   "name": "python",
   "nbconvert_exporter": "python",
   "pygments_lexer": "ipython3",
   "version": "3.9.7"
  }
 },
 "nbformat": 4,
 "nbformat_minor": 5
}
