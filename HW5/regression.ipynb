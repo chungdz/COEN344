{
 "cells": [
  {
   "cell_type": "code",
   "execution_count": 1,
   "id": "dd1061a5",
   "metadata": {},
   "outputs": [],
   "source": [
    "import pandas as pd\n",
    "from sklearn.model_selection import train_test_split\n",
    "from sklearn.linear_model import LinearRegression\n",
    "from sklearn.metrics import mean_squared_error\n",
    "import statsmodels.api as sm\n",
    "from sklearn.ensemble import RandomForestRegressor"
   ]
  },
  {
   "cell_type": "code",
   "execution_count": 2,
   "id": "0251845a",
   "metadata": {},
   "outputs": [],
   "source": [
    "t = pd.read_csv(\"../data/HW5/regre_data.csv\")"
   ]
  },
  {
   "cell_type": "code",
   "execution_count": 3,
   "id": "321c61e4",
   "metadata": {},
   "outputs": [
    {
     "data": {
      "text/html": [
       "<div>\n",
       "<style scoped>\n",
       "    .dataframe tbody tr th:only-of-type {\n",
       "        vertical-align: middle;\n",
       "    }\n",
       "\n",
       "    .dataframe tbody tr th {\n",
       "        vertical-align: top;\n",
       "    }\n",
       "\n",
       "    .dataframe thead th {\n",
       "        text-align: right;\n",
       "    }\n",
       "</style>\n",
       "<table border=\"1\" class=\"dataframe\">\n",
       "  <thead>\n",
       "    <tr style=\"text-align: right;\">\n",
       "      <th></th>\n",
       "      <th>shipping_fee</th>\n",
       "      <th>carrier_min_estimate</th>\n",
       "      <th>carrier_max_estimate</th>\n",
       "      <th>item_price</th>\n",
       "      <th>quantity</th>\n",
       "      <th>seller_size</th>\n",
       "      <th>bt</th>\n",
       "      <th>weight</th>\n",
       "      <th>tz_dis</th>\n",
       "      <th>dis</th>\n",
       "      <th>isNextDay</th>\n",
       "      <th>isHoliday</th>\n",
       "      <th>target</th>\n",
       "    </tr>\n",
       "  </thead>\n",
       "  <tbody>\n",
       "    <tr>\n",
       "      <th>0</th>\n",
       "      <td>-0.525250</td>\n",
       "      <td>0.779787</td>\n",
       "      <td>-0.378132</td>\n",
       "      <td>-0.089748</td>\n",
       "      <td>-0.143373</td>\n",
       "      <td>-0.123254</td>\n",
       "      <td>0</td>\n",
       "      <td>-0.246142</td>\n",
       "      <td>1.687104</td>\n",
       "      <td>1.048360</td>\n",
       "      <td>1</td>\n",
       "      <td>0</td>\n",
       "      <td>3</td>\n",
       "    </tr>\n",
       "    <tr>\n",
       "      <th>1</th>\n",
       "      <td>0.262849</td>\n",
       "      <td>0.779787</td>\n",
       "      <td>-0.378132</td>\n",
       "      <td>-0.176260</td>\n",
       "      <td>-0.143373</td>\n",
       "      <td>-0.134993</td>\n",
       "      <td>0</td>\n",
       "      <td>-0.157998</td>\n",
       "      <td>-0.744093</td>\n",
       "      <td>-0.531245</td>\n",
       "      <td>1</td>\n",
       "      <td>0</td>\n",
       "      <td>3</td>\n",
       "    </tr>\n",
       "    <tr>\n",
       "      <th>2</th>\n",
       "      <td>-0.525250</td>\n",
       "      <td>0.779787</td>\n",
       "      <td>-0.378132</td>\n",
       "      <td>-0.278462</td>\n",
       "      <td>-0.143373</td>\n",
       "      <td>-0.134993</td>\n",
       "      <td>0</td>\n",
       "      <td>-0.334286</td>\n",
       "      <td>-0.744093</td>\n",
       "      <td>-0.117489</td>\n",
       "      <td>1</td>\n",
       "      <td>0</td>\n",
       "      <td>3</td>\n",
       "    </tr>\n",
       "    <tr>\n",
       "      <th>3</th>\n",
       "      <td>-0.525250</td>\n",
       "      <td>0.779787</td>\n",
       "      <td>-0.378132</td>\n",
       "      <td>-0.328865</td>\n",
       "      <td>-0.143373</td>\n",
       "      <td>-0.134993</td>\n",
       "      <td>0</td>\n",
       "      <td>-0.356322</td>\n",
       "      <td>1.079304</td>\n",
       "      <td>0.866869</td>\n",
       "      <td>1</td>\n",
       "      <td>0</td>\n",
       "      <td>3</td>\n",
       "    </tr>\n",
       "    <tr>\n",
       "      <th>4</th>\n",
       "      <td>-0.525250</td>\n",
       "      <td>-1.273109</td>\n",
       "      <td>2.095049</td>\n",
       "      <td>-0.330477</td>\n",
       "      <td>-0.143373</td>\n",
       "      <td>-0.134993</td>\n",
       "      <td>0</td>\n",
       "      <td>-0.356322</td>\n",
       "      <td>-0.136294</td>\n",
       "      <td>-0.150466</td>\n",
       "      <td>0</td>\n",
       "      <td>0</td>\n",
       "      <td>3</td>\n",
       "    </tr>\n",
       "    <tr>\n",
       "      <th>...</th>\n",
       "      <td>...</td>\n",
       "      <td>...</td>\n",
       "      <td>...</td>\n",
       "      <td>...</td>\n",
       "      <td>...</td>\n",
       "      <td>...</td>\n",
       "      <td>...</td>\n",
       "      <td>...</td>\n",
       "      <td>...</td>\n",
       "      <td>...</td>\n",
       "      <td>...</td>\n",
       "      <td>...</td>\n",
       "      <td>...</td>\n",
       "    </tr>\n",
       "    <tr>\n",
       "      <th>42474</th>\n",
       "      <td>0.275109</td>\n",
       "      <td>0.779787</td>\n",
       "      <td>-0.378132</td>\n",
       "      <td>-0.357989</td>\n",
       "      <td>-0.143373</td>\n",
       "      <td>-0.134993</td>\n",
       "      <td>1</td>\n",
       "      <td>-0.180034</td>\n",
       "      <td>-0.136294</td>\n",
       "      <td>0.344670</td>\n",
       "      <td>0</td>\n",
       "      <td>0</td>\n",
       "      <td>2</td>\n",
       "    </tr>\n",
       "    <tr>\n",
       "      <th>42475</th>\n",
       "      <td>-0.525250</td>\n",
       "      <td>0.779787</td>\n",
       "      <td>-0.378132</td>\n",
       "      <td>-0.327360</td>\n",
       "      <td>-0.143373</td>\n",
       "      <td>-0.111515</td>\n",
       "      <td>0</td>\n",
       "      <td>-0.356322</td>\n",
       "      <td>-1.959692</td>\n",
       "      <td>1.641628</td>\n",
       "      <td>1</td>\n",
       "      <td>0</td>\n",
       "      <td>3</td>\n",
       "    </tr>\n",
       "    <tr>\n",
       "      <th>42476</th>\n",
       "      <td>-0.525250</td>\n",
       "      <td>0.779787</td>\n",
       "      <td>-0.378132</td>\n",
       "      <td>-0.250950</td>\n",
       "      <td>-0.143373</td>\n",
       "      <td>-0.134993</td>\n",
       "      <td>0</td>\n",
       "      <td>-0.356322</td>\n",
       "      <td>-1.351893</td>\n",
       "      <td>0.354446</td>\n",
       "      <td>1</td>\n",
       "      <td>0</td>\n",
       "      <td>2</td>\n",
       "    </tr>\n",
       "    <tr>\n",
       "      <th>42477</th>\n",
       "      <td>2.082483</td>\n",
       "      <td>-1.273109</td>\n",
       "      <td>-0.378132</td>\n",
       "      <td>0.254580</td>\n",
       "      <td>-0.143373</td>\n",
       "      <td>-0.064560</td>\n",
       "      <td>0</td>\n",
       "      <td>0.348830</td>\n",
       "      <td>-0.744093</td>\n",
       "      <td>-0.042456</td>\n",
       "      <td>1</td>\n",
       "      <td>0</td>\n",
       "      <td>2</td>\n",
       "    </tr>\n",
       "    <tr>\n",
       "      <th>42478</th>\n",
       "      <td>-0.525250</td>\n",
       "      <td>-1.273109</td>\n",
       "      <td>-0.378132</td>\n",
       "      <td>3.532470</td>\n",
       "      <td>-0.143373</td>\n",
       "      <td>-0.134993</td>\n",
       "      <td>0</td>\n",
       "      <td>2.464288</td>\n",
       "      <td>0.471505</td>\n",
       "      <td>-0.989628</td>\n",
       "      <td>0</td>\n",
       "      <td>0</td>\n",
       "      <td>4</td>\n",
       "    </tr>\n",
       "  </tbody>\n",
       "</table>\n",
       "<p>42479 rows × 13 columns</p>\n",
       "</div>"
      ],
      "text/plain": [
       "       shipping_fee  carrier_min_estimate  carrier_max_estimate  item_price  \\\n",
       "0         -0.525250              0.779787             -0.378132   -0.089748   \n",
       "1          0.262849              0.779787             -0.378132   -0.176260   \n",
       "2         -0.525250              0.779787             -0.378132   -0.278462   \n",
       "3         -0.525250              0.779787             -0.378132   -0.328865   \n",
       "4         -0.525250             -1.273109              2.095049   -0.330477   \n",
       "...             ...                   ...                   ...         ...   \n",
       "42474      0.275109              0.779787             -0.378132   -0.357989   \n",
       "42475     -0.525250              0.779787             -0.378132   -0.327360   \n",
       "42476     -0.525250              0.779787             -0.378132   -0.250950   \n",
       "42477      2.082483             -1.273109             -0.378132    0.254580   \n",
       "42478     -0.525250             -1.273109             -0.378132    3.532470   \n",
       "\n",
       "       quantity  seller_size  bt    weight    tz_dis       dis  isNextDay  \\\n",
       "0     -0.143373    -0.123254   0 -0.246142  1.687104  1.048360          1   \n",
       "1     -0.143373    -0.134993   0 -0.157998 -0.744093 -0.531245          1   \n",
       "2     -0.143373    -0.134993   0 -0.334286 -0.744093 -0.117489          1   \n",
       "3     -0.143373    -0.134993   0 -0.356322  1.079304  0.866869          1   \n",
       "4     -0.143373    -0.134993   0 -0.356322 -0.136294 -0.150466          0   \n",
       "...         ...          ...  ..       ...       ...       ...        ...   \n",
       "42474 -0.143373    -0.134993   1 -0.180034 -0.136294  0.344670          0   \n",
       "42475 -0.143373    -0.111515   0 -0.356322 -1.959692  1.641628          1   \n",
       "42476 -0.143373    -0.134993   0 -0.356322 -1.351893  0.354446          1   \n",
       "42477 -0.143373    -0.064560   0  0.348830 -0.744093 -0.042456          1   \n",
       "42478 -0.143373    -0.134993   0  2.464288  0.471505 -0.989628          0   \n",
       "\n",
       "       isHoliday  target  \n",
       "0              0       3  \n",
       "1              0       3  \n",
       "2              0       3  \n",
       "3              0       3  \n",
       "4              0       3  \n",
       "...          ...     ...  \n",
       "42474          0       2  \n",
       "42475          0       3  \n",
       "42476          0       2  \n",
       "42477          0       2  \n",
       "42478          0       4  \n",
       "\n",
       "[42479 rows x 13 columns]"
      ]
     },
     "execution_count": 3,
     "metadata": {},
     "output_type": "execute_result"
    }
   ],
   "source": [
    "t"
   ]
  },
  {
   "cell_type": "code",
   "execution_count": 4,
   "id": "6668f99f",
   "metadata": {},
   "outputs": [],
   "source": [
    "x = t.drop(columns='target')\n",
    "y = t['target']"
   ]
  },
  {
   "cell_type": "code",
   "execution_count": 5,
   "id": "8aa518d2",
   "metadata": {},
   "outputs": [],
   "source": [
    "x_train, x_test, y_train, y_test = train_test_split(x, y, test_size=0.1, random_state=7)"
   ]
  },
  {
   "cell_type": "code",
   "execution_count": 6,
   "id": "32f17df8",
   "metadata": {},
   "outputs": [
    {
     "data": {
      "text/plain": [
       "22084    1\n",
       "30201    3\n",
       "11790    2\n",
       "35033    2\n",
       "1996     3\n",
       "        ..\n",
       "34140    3\n",
       "13927    7\n",
       "919      3\n",
       "38467    6\n",
       "10742    4\n",
       "Name: target, Length: 38231, dtype: int64"
      ]
     },
     "execution_count": 6,
     "metadata": {},
     "output_type": "execute_result"
    }
   ],
   "source": [
    "y_train"
   ]
  },
  {
   "cell_type": "code",
   "execution_count": 7,
   "id": "25249e82",
   "metadata": {},
   "outputs": [],
   "source": [
    "model = LinearRegression().fit(x_train, y_train)"
   ]
  },
  {
   "cell_type": "code",
   "execution_count": 8,
   "id": "9f00b4d8",
   "metadata": {},
   "outputs": [
    {
     "name": "stdout",
     "output_type": "stream",
     "text": [
      "coefficient of determination: 0.10369363822973865\n",
      "intercept: 2.967217085570248\n",
      "slope: [-0.0339423   0.09518639  0.39239835 -0.01436566 -0.00917079  0.16694607\n",
      "  0.04119653  0.01360001  0.04080737  0.23207962  0.00617981 -0.4949654 ]\n"
     ]
    }
   ],
   "source": [
    "r_sq = model.score(x_train, y_train)\n",
    "print('coefficient of determination:', r_sq)\n",
    "print('intercept:', model.intercept_)\n",
    "print('slope:', model.coef_)"
   ]
  },
  {
   "cell_type": "code",
   "execution_count": 9,
   "id": "5a84723a",
   "metadata": {},
   "outputs": [
    {
     "name": "stdout",
     "output_type": "stream",
     "text": [
      "sum of MSE: 1.833175403879176\n",
      "sum of RMSE: 1.3539480802007056\n"
     ]
    }
   ],
   "source": [
    "y_pred = model.predict(x_test)\n",
    "print('sum of MSE:', mean_squared_error(y_test, y_pred))\n",
    "print('sum of RMSE:', mean_squared_error(y_test, y_pred, squared=False))"
   ]
  },
  {
   "cell_type": "code",
   "execution_count": null,
   "id": "11821dd4",
   "metadata": {},
   "outputs": [],
   "source": []
  },
  {
   "cell_type": "code",
   "execution_count": 10,
   "id": "40f7de8f",
   "metadata": {},
   "outputs": [],
   "source": [
    "x_train['intercept'] = 1\n",
    "x_test['intercept'] = 1"
   ]
  },
  {
   "cell_type": "code",
   "execution_count": 11,
   "id": "ead71f7d",
   "metadata": {},
   "outputs": [],
   "source": [
    "model_sm = sm.OLS(y_train, x_train)"
   ]
  },
  {
   "cell_type": "code",
   "execution_count": 12,
   "id": "6dce8932",
   "metadata": {},
   "outputs": [],
   "source": [
    "results = model_sm.fit()"
   ]
  },
  {
   "cell_type": "code",
   "execution_count": 13,
   "id": "96124427",
   "metadata": {},
   "outputs": [
    {
     "name": "stdout",
     "output_type": "stream",
     "text": [
      "                            OLS Regression Results                            \n",
      "==============================================================================\n",
      "Dep. Variable:                 target   R-squared:                       0.104\n",
      "Model:                            OLS   Adj. R-squared:                  0.103\n",
      "Method:                 Least Squares   F-statistic:                     368.5\n",
      "Date:                Mon, 28 Mar 2022   Prob (F-statistic):               0.00\n",
      "Time:                        11:30:34   Log-Likelihood:                -68576.\n",
      "No. Observations:               38231   AIC:                         1.372e+05\n",
      "Df Residuals:                   38218   BIC:                         1.373e+05\n",
      "Df Model:                          12                                         \n",
      "Covariance Type:            nonrobust                                         \n",
      "========================================================================================\n",
      "                           coef    std err          t      P>|t|      [0.025      0.975]\n",
      "----------------------------------------------------------------------------------------\n",
      "shipping_fee            -0.0339      0.009     -3.921      0.000      -0.051      -0.017\n",
      "carrier_min_estimate     0.0952      0.009     10.273      0.000       0.077       0.113\n",
      "carrier_max_estimate     0.3924      0.009     45.456      0.000       0.375       0.409\n",
      "item_price              -0.0144      0.008     -1.826      0.068      -0.030       0.001\n",
      "quantity                -0.0092      0.007     -1.253      0.210      -0.024       0.005\n",
      "seller_size              0.1669      0.007     24.166      0.000       0.153       0.180\n",
      "bt                       0.0412      0.017      2.415      0.016       0.008       0.075\n",
      "weight                   0.0136      0.009      1.485      0.137      -0.004       0.032\n",
      "tz_dis                   0.0408      0.008      5.414      0.000       0.026       0.056\n",
      "dis                      0.2321      0.007     31.089      0.000       0.217       0.247\n",
      "isNextDay                0.0062      0.016      0.397      0.692      -0.024       0.037\n",
      "isHoliday               -0.4950      0.728     -0.680      0.496      -1.921       0.931\n",
      "intercept                2.9672      0.014    216.765      0.000       2.940       2.994\n",
      "==============================================================================\n",
      "Omnibus:                    31746.533   Durbin-Watson:                   2.014\n",
      "Prob(Omnibus):                  0.000   Jarque-Bera (JB):          2318050.504\n",
      "Skew:                           3.548   Prob(JB):                         0.00\n",
      "Kurtosis:                      40.481   Cond. No.                         135.\n",
      "==============================================================================\n",
      "\n",
      "Notes:\n",
      "[1] Standard Errors assume that the covariance matrix of the errors is correctly specified.\n"
     ]
    }
   ],
   "source": [
    "print(results.summary())"
   ]
  },
  {
   "cell_type": "code",
   "execution_count": 14,
   "id": "acb2ccf8",
   "metadata": {},
   "outputs": [],
   "source": [
    "yhat = results.predict(x_test)"
   ]
  },
  {
   "cell_type": "code",
   "execution_count": 15,
   "id": "d119a769",
   "metadata": {},
   "outputs": [
    {
     "data": {
      "text/plain": [
       "13807    2.820193\n",
       "1863     3.012253\n",
       "31431    3.032394\n",
       "23016    2.380724\n",
       "26841    3.007834\n",
       "           ...   \n",
       "16461    2.648193\n",
       "12002    3.659374\n",
       "34079    3.222149\n",
       "30781    2.671609\n",
       "11316    3.875000\n",
       "Length: 4248, dtype: float64"
      ]
     },
     "execution_count": 15,
     "metadata": {},
     "output_type": "execute_result"
    }
   ],
   "source": [
    "yhat"
   ]
  },
  {
   "cell_type": "code",
   "execution_count": null,
   "id": "f56af415",
   "metadata": {},
   "outputs": [],
   "source": []
  },
  {
   "cell_type": "code",
   "execution_count": 16,
   "id": "46a6eb10",
   "metadata": {},
   "outputs": [
    {
     "data": {
      "text/plain": [
       "RandomForestRegressor(max_depth=2, random_state=0)"
      ]
     },
     "execution_count": 16,
     "metadata": {},
     "output_type": "execute_result"
    }
   ],
   "source": [
    "rfg = RandomForestRegressor(max_depth=2, random_state=0)\n",
    "rfg.fit(x_train, y_train)"
   ]
  },
  {
   "cell_type": "code",
   "execution_count": 17,
   "id": "337a95e4",
   "metadata": {},
   "outputs": [],
   "source": [
    "rf_predict = rfg.predict(x_test)"
   ]
  },
  {
   "cell_type": "code",
   "execution_count": 18,
   "id": "6eb2ade7",
   "metadata": {},
   "outputs": [
    {
     "name": "stdout",
     "output_type": "stream",
     "text": [
      "sum of MSE: 1.8019989369444323\n",
      "sum of RMSE: 1.3423855396064248\n"
     ]
    }
   ],
   "source": [
    "print('sum of MSE:', mean_squared_error(y_test, rf_predict))\n",
    "print('sum of RMSE:', mean_squared_error(y_test, rf_predict, squared=False))"
   ]
  },
  {
   "cell_type": "code",
   "execution_count": null,
   "id": "28e5cdd9",
   "metadata": {},
   "outputs": [],
   "source": []
  }
 ],
 "metadata": {
  "kernelspec": {
   "display_name": "Python 3 (ipykernel)",
   "language": "python",
   "name": "python3"
  },
  "language_info": {
   "codemirror_mode": {
    "name": "ipython",
    "version": 3
   },
   "file_extension": ".py",
   "mimetype": "text/x-python",
   "name": "python",
   "nbconvert_exporter": "python",
   "pygments_lexer": "ipython3",
   "version": "3.9.7"
  }
 },
 "nbformat": 4,
 "nbformat_minor": 5
}
